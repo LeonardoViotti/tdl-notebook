{
 "cells": [
  {
   "cell_type": "markdown",
   "id": "8e696aac",
   "metadata": {
    "colab_type": "text",
    "id": "view-in-github"
   },
   "source": [
    "<a href=\"https://colab.research.google.com/github/LeonardoViotti/field-data/blob/main/tdl-notebook/tdl_draft.ipynb\" target=\"_parent\"><img src=\"https://colab.research.google.com/assets/colab-badge.svg\" alt=\"Open In Colab\"/></a>"
   ]
  },
  {
   "cell_type": "markdown",
   "id": "40efa6a5-8d7e-4403-9170-1416c3a0643f",
   "metadata": {
    "id": "40efa6a5-8d7e-4403-9170-1416c3a0643f"
   },
   "source": [
    "## Install opensoundscape in this CoLab environment"
   ]
  },
  {
   "cell_type": "code",
   "execution_count": null,
   "id": "HpLZP8Tf3fxW",
   "metadata": {
    "colab": {
     "base_uri": "https://localhost:8080/"
    },
    "id": "HpLZP8Tf3fxW",
    "outputId": "4ea28181-c3e0-41d2-eaba-913ada6b5828"
   },
   "outputs": [],
   "source": [
    "# install opensoundscape (this also might take a while)\n",
    "!pip install opensoundscape==0.9.0 --ignore-requires-python"
   ]
  },
  {
   "cell_type": "markdown",
   "id": "5vknAPdZUcdZ",
   "metadata": {
    "id": "5vknAPdZUcdZ"
   },
   "source": [
    "## Import modules and set-up global configurations"
   ]
  },
  {
   "cell_type": "code",
   "execution_count": null,
   "id": "cf65bfc1-cb6e-4e45-a0a5-d2c5792bf0af",
   "metadata": {},
   "outputs": [],
   "source": [
    "import os\n",
    "\n",
    "from opensoundscape.spectrogram import Spectrogram\n",
    "from opensoundscape.audio import Audio\n",
    "import pandas as pd\n",
    "import matplotlib.pyplot as plt\n",
    "import IPython.display as ipd\n",
    "\n",
    "from annotation import *\n",
    "from utils import *\n",
    "\n",
    "%matplotlib inline\n",
    "%config InlineBackend.figure_format = 'retina'\n",
    "plt.rcParams['figure.figsize'] = [25,10]\n"
   ]
  },
  {
   "cell_type": "markdown",
   "id": "34f8873a-6587-4b97-be33-5bf8034fd64f",
   "metadata": {},
   "source": [
    "## Load data"
   ]
  },
  {
   "cell_type": "code",
   "execution_count": null,
   "id": "PYNEnYEbEqF1",
   "metadata": {
    "colab": {
     "base_uri": "https://localhost:8080/"
    },
    "id": "PYNEnYEbEqF1",
    "outputId": "c6f858b5-5282-43b0-f6f9-9a3dba81c033"
   },
   "outputs": [],
   "source": [
    "from google.colab import drive\n",
    "mount = '/content/drive'\n",
    "drive.mount(mount)"
   ]
  },
  {
   "cell_type": "code",
   "execution_count": null,
   "id": "Ybf3ywbZMJ0M",
   "metadata": {
    "colab": {
     "base_uri": "https://localhost:8080/",
     "height": 35
    },
    "id": "Ybf3ywbZMJ0M",
    "outputId": "986d8f45-b31b-4d4b-f960-6a938fcd829e"
   },
   "outputs": [],
   "source": [
    "folder = os.path.join(mount, 'My Drive/tdl-notebook-test/earl22_CAWA_song')\n",
    "folder"
   ]
  },
  {
   "cell_type": "markdown",
   "id": "d4438bdb-9f3d-42c7-a32b-34e6531e33aa",
   "metadata": {
    "tags": []
   },
   "source": [
    "## Annotation"
   ]
  },
  {
   "cell_type": "code",
   "execution_count": null,
   "id": "c8bead20-1910-41b0-9c45-08e0cdd02dbc",
   "metadata": {
    "tags": []
   },
   "outputs": [],
   "source": [
    "custom_annotations_dict = {'3':'3-part_song', '2':'2-part_song'}\n",
    "listen_dates = [20220522, 20220524, 20220526, 20220528, 20220530]\n",
    "# card_filter = ['MSD-2185', 'MSD-0439']\n",
    "\n",
    "annotate(folder,\n",
    "         scores_filename = '2023-05-24_earl2022_CAWA_song_top1_20220522-20220531_scores',\n",
    "         date_filter = [20220522, 20220524, 20220526, 20220528, 20220530],\n",
    "         custom_annotations_dict = {'3':'3-part_song', '2':'2-part_song'})"
   ]
  }
 ],
 "metadata": {
  "colab": {
   "collapsed_sections": [
    "1cf9ddc7-071d-4a1a-8dff-76d731801347"
   ],
   "include_colab_link": true,
   "provenance": []
  },
  "kernelspec": {
   "display_name": "Python 3 (ipykernel)",
   "language": "python",
   "name": "python3"
  },
  "language_info": {
   "codemirror_mode": {
    "name": "ipython",
    "version": 3
   },
   "file_extension": ".py",
   "mimetype": "text/x-python",
   "name": "python",
   "nbconvert_exporter": "python",
   "pygments_lexer": "ipython3",
   "version": "3.9.16"
  }
 },
 "nbformat": 4,
 "nbformat_minor": 5
}
