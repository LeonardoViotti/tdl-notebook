{
 "cells": [
  {
   "cell_type": "code",
   "execution_count": 1,
   "id": "MRml2t2KDPy4",
   "metadata": {
    "id": "MRml2t2KDPy4"
   },
   "outputs": [],
   "source": [
    "import os\n",
    "\n",
    "from opensoundscape.spectrogram import Spectrogram\n",
    "from opensoundscape.audio import Audio\n",
    "import pandas as pd\n",
    "import matplotlib.pyplot as plt\n",
    "import IPython.display as ipd\n",
    "\n",
    "# %matplotlib inline\n",
    "# %config InlineBackend.figure_format = 'retina'\n",
    "plt.rcParams['figure.figsize'] = [12,5]"
   ]
  },
  {
   "cell_type": "code",
   "execution_count": 2,
   "id": "cf65bfc1-cb6e-4e45-a0a5-d2c5792bf0af",
   "metadata": {
    "id": "cf65bfc1-cb6e-4e45-a0a5-d2c5792bf0af"
   },
   "outputs": [],
   "source": [
    "from tdl_annotation import *"
   ]
  },
  {
   "cell_type": "markdown",
   "id": "d4438bdb-9f3d-42c7-a32b-34e6531e33aa",
   "metadata": {
    "id": "d4438bdb-9f3d-42c7-a32b-34e6531e33aa",
    "tags": []
   },
   "source": [
    "## Annotation"
   ]
  },
  {
   "cell_type": "code",
   "execution_count": null,
   "id": "a254aeed-ffc4-409f-9d17-0abaac55994c",
   "metadata": {},
   "outputs": [],
   "source": [
    "annotate(\n",
    "    scores_file = 'clips/_scores-test.csv'',\n",
    "    valid_annotations = [0, 1,'u','w'],\n",
    "    index_cols = ['file_local', 'start_time', 'end_time'])"
   ]
  }
 ],
 "metadata": {
  "colab": {
   "include_colab_link": true,
   "provenance": []
  },
  "kernelspec": {
   "display_name": "Python 3 (ipykernel)",
   "language": "python",
   "name": "python3"
  },
  "language_info": {
   "codemirror_mode": {
    "name": "ipython",
    "version": 3
   },
   "file_extension": ".py",
   "mimetype": "text/x-python",
   "name": "python",
   "nbconvert_exporter": "python",
   "pygments_lexer": "ipython3",
   "version": "3.10.16"
  }
 },
 "nbformat": 4,
 "nbformat_minor": 5
}
