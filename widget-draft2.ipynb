{
 "cells": [
  {
   "cell_type": "code",
   "execution_count": null,
   "id": "c3fa15d0-f168-4dd4-bacf-15235fe14cc1",
   "metadata": {},
   "outputs": [],
   "source": [
    "import pandas as pd\n",
    "import numpy as np\n",
    "import ipywidgets as widgets\n",
    "\n",
    "from matplotlib import pyplot as plt\n",
    "\n",
    "from annotation import *\n",
    "\n",
    "\n",
    "# https://stackoverflow.com/questions/72465375/collect-text-data-through-ipywidgets-and-update-a-pandas-dataframe\n"
   ]
  },
  {
   "cell_type": "code",
   "execution_count": null,
   "id": "97af5943-ffff-46f8-971b-cc1c5fb23374",
   "metadata": {},
   "outputs": [],
   "source": [
    "scores_df = pd.read_csv('/Users/lviotti/Downloads/_scores-simp_annotations.csv')\n",
    "scores_df = scores_df[['clip', 'annotation', 'additional_annotation', 'notes']]\n",
    "scores_df"
   ]
  },
  {
   "cell_type": "code",
   "execution_count": null,
   "id": "56ed488a-6ae5-4484-b853-751c7abd4fa8",
   "metadata": {},
   "outputs": [],
   "source": [
    "class record():\n",
    "    def __init__(self, \n",
    "                 annotations_dict = {'Absent' : 0 , 'Present' : 1}, \n",
    "                 annotation_description = 'Annotation',\n",
    "                 custom_annotations_dict = None,\n",
    "                 custom_annotations_description = 'Custom Annotation'):\n",
    "        \n",
    "        self.annotations_dict = annotations_dict\n",
    "        self.annotation_description = annotation_description\n",
    "        \n",
    "        if custom_annotations_dict is not None:\n",
    "            self.custom_annotations_dict = custom_annotations_dict\n",
    "            self.custom_annotations_description = custom_annotations_description\n",
    "        else:\n",
    "            self.custom_annotations_dict = None\n",
    "        \n",
    "        self.data = None\n",
    "        \n",
    "    def input(self):\n",
    "        # Annotation box\n",
    "        self.annotation = widgets.RadioButtons(options= self.annotations_dict, description= self.annotation_description)\n",
    "        self.notes = widgets.Text(description='Notes')\n",
    "        self.button = widgets.Button(description=\"Submit\")\n",
    "        self.button.on_click(self.on_button_clicked)\n",
    "        \n",
    "        if self.custom_annotations_dict is not None:\n",
    "            self.custom_annotation = widgets.RadioButtons(options= self.custom_annotations_dict, description=self.custom_annotations_description)\n",
    "            \n",
    "            ui = widgets.HBox([self.annotation, self.custom_annotation])\n",
    "            display(ui, self.notes, self.button)\n",
    "        else:\n",
    "            display(self.annotation, \n",
    "                    self.notes,\n",
    "                    self.button)\n",
    "\n",
    "    def on_button_clicked(self,b):\n",
    "        self.data = {\n",
    "            'annotation' : self.annotation.value,\n",
    "            'notes':self.notes.value}\n",
    "        \n",
    "        if self.custom_annotations_dict is not None:\n",
    "            self.data.update({'custom-annotation': self.custom_annotation.value})\n"
   ]
  },
  {
   "cell_type": "code",
   "execution_count": null,
   "id": "63a9b6f1-d080-4b49-b058-a7f850f4a5bb",
   "metadata": {},
   "outputs": [],
   "source": [
    "r = record(annotations_dict = {'Absent' : 0 , 'Present' : 1})"
   ]
  },
  {
   "cell_type": "code",
   "execution_count": null,
   "id": "421c8c81-f0be-4c5c-82e9-3302112887ed",
   "metadata": {},
   "outputs": [],
   "source": [
    "r.input()"
   ]
  },
  {
   "cell_type": "code",
   "execution_count": null,
   "id": "1e679c62-3971-41fb-9660-f6eac652abc1",
   "metadata": {},
   "outputs": [],
   "source": [
    "for idx,row in scores_df.iterrows():\n",
    "    break"
   ]
  },
  {
   "cell_type": "code",
   "execution_count": null,
   "id": "b6df1dbf-887f-466d-ac12-52f1c7ab2935",
   "metadata": {},
   "outputs": [],
   "source": [
    "row['absolute_path'] = '/Users/lviotti/Library/CloudStorage/Dropbox/Work/Kitzes/data/nfwf22-TDL/dela2022a/MSD-2480/MSD-2480_20220522_100000_160.0s-164.0s.wav'"
   ]
  },
  {
   "cell_type": "code",
   "execution_count": null,
   "id": "d7975e1c-6f36-4395-ab59-3b2592327618",
   "metadata": {},
   "outputs": [],
   "source": [
    "# r = record(annotations_dict = {'Absent' : 0 , 'Present' : 1}, custom_annotations_dict = {'Absent' : 0 , 'Present' : 1})\n",
    "\n",
    "# plot_clip(row['absolute_path'], mark_at_s = [3, 7])\n",
    "# time.sleep(.1) # Added delay for stability (hopefully)\n",
    "# r.input()\n",
    "\n",
    "# scores_df.at[idx, annotation_column] = r.data['annotation']\n",
    "# scores_df.at[idx, custom_annotation_column] = r.data['custom-annotation']\n",
    "# scores_df.at[idx, notes_column]= r.data['notes']\n"
   ]
  },
  {
   "cell_type": "code",
   "execution_count": null,
   "id": "aeb15528-7ffc-4153-98ab-e0b570ca0127",
   "metadata": {},
   "outputs": [],
   "source": [
    "# plot_clip(row['absolute_path'], mark_at_s = [3, 7])\n",
    "# time.sleep(.1) # Added delay for stability (hopefully)\n",
    "# annotations = user_input(valid_annotations, custom_annotations_dict = custom_annotations_dict, positive_annotation = '1')\n",
    "\n",
    "# scores_df.at[idx, annotation_column] = annotations[0]\n",
    "# scores_df.at[idx, custom_annotation_column] = annotations[1]\n",
    "# scores_df.at[idx, notes_column]= annotations[2]"
   ]
  },
  {
   "cell_type": "code",
   "execution_count": null,
   "id": "abc21426-a7c3-4fdc-a6d6-66c326ac3e25",
   "metadata": {},
   "outputs": [],
   "source": [
    "# https://stackoverflow.com/questions/66139817/ipywidgets-progress-for-loop-when-pressing-button-and-change-button-description\n",
    "\n",
    "\n",
    "import asyncio\n",
    "\n",
    "from IPython.display import display\n",
    "import ipywidgets as widgets\n",
    "\n",
    "\n",
    "out = widgets.Output()\n",
    "\n",
    "def wait_for_click(btn, n_clicked=0):\n",
    "    future = asyncio.Future()\n",
    "    \n",
    "    def on_button_clicked(btn):\n",
    "        btn.description = f\"Clicked {n_clicked} times!\"\n",
    "        future.set_result(btn.description)\n",
    "    \n",
    "    btn.on_click(on_button_clicked)\n",
    "    \n",
    "    return future\n",
    "\n",
    "n_changes = 5\n",
    "\n",
    "btn = widgets.Button(description=\"Never Clicked\")\n",
    "\n",
    "async def f():\n",
    "    for i in range(n_changes):\n",
    "        out.append_stdout(f'did work {i}\\n')\n",
    "        btn_descr = await wait_for_click(btn, n_clicked=i + 1)\n",
    "        out.append_stdout(f'\\nasync function continued with button description \"{btn_descr}\"\\n')\n",
    "asyncio.ensure_future(f())\n",
    "\n",
    "display(btn, out)"
   ]
  }
 ],
 "metadata": {
  "kernelspec": {
   "display_name": "torch-p3.10",
   "language": "python",
   "name": "torch-p3.10"
  },
  "language_info": {
   "codemirror_mode": {
    "name": "ipython",
    "version": 3
   },
   "file_extension": ".py",
   "mimetype": "text/x-python",
   "name": "python",
   "nbconvert_exporter": "python",
   "pygments_lexer": "ipython3",
   "version": "3.10.12"
  }
 },
 "nbformat": 4,
 "nbformat_minor": 5
}
