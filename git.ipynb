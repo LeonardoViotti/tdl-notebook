{
  "cells": [
    {
      "attachments": {},
      "cell_type": "markdown",
      "metadata": {
        "colab_type": "text",
        "id": "view-in-github"
      },
      "source": [
        "<a href=\"https://colab.research.google.com/github/LeonardoViotti/tdl-notebook/blob/main/git.ipynb\" target=\"_parent\"><img src=\"https://colab.research.google.com/assets/colab-badge.svg\" alt=\"Open In Colab\"/></a>"
      ]
    },
    {
      "attachments": {},
      "cell_type": "markdown",
      "metadata": {},
      "source": [
        "# Git workflow on Google Colab"
      ]
    },
    {
      "cell_type": "code",
      "execution_count": null,
      "metadata": {
        "colab": {
          "base_uri": "https://localhost:8080/"
        },
        "id": "f0g_VQFdXb5P",
        "outputId": "e0276239-0d65-40fc-8c3c-bfc09278967a"
      },
      "outputs": [
        {
          "name": "stdout",
          "output_type": "stream",
          "text": [
            "Mounted at /content/drive\n"
          ]
        }
      ],
      "source": [
        "from google.colab import drive\n",
        "import os"
      ]
    },
    {
      "cell_type": "code",
      "execution_count": null,
      "metadata": {
        "id": "t87zR8-fYhVS"
      },
      "outputs": [],
      "source": [
        "mount = '/content/drive'\n",
        "drive.mount(mount)"
      ]
    },
    {
      "cell_type": "code",
      "execution_count": null,
      "metadata": {
        "colab": {
          "base_uri": "https://localhost:8080/"
        },
        "id": "SmvCHfNmX-xh",
        "outputId": "cdda0f0b-068c-4a16-e084-4f29c56cbffd"
      },
      "outputs": [
        {
          "name": "stdout",
          "output_type": "stream",
          "text": [
            "/content/drive/MyDrive/tdl-notebook-test\n"
          ]
        }
      ],
      "source": [
        "%cd /content/drive/MyDrive/tdl-notebook-test"
      ]
    },
    {
      "cell_type": "code",
      "execution_count": null,
      "metadata": {
        "colab": {
          "base_uri": "https://localhost:8080/"
        },
        "id": "cIP1sn57YBVM",
        "outputId": "c88cbd2d-d1a0-49c5-fc5c-412eb1372832"
      },
      "outputs": [
        {
          "data": {
            "text/plain": [
              "['earl22_CAWA_song',\n",
              " 'dela2022_CAWA_song',\n",
              " 'appl2022_CAWA_song',\n",
              " 'test.csv',\n",
              " 'Untitled Folder',\n",
              " 'tdl-notebook']"
            ]
          },
          "execution_count": 5,
          "metadata": {},
          "output_type": "execute_result"
        }
      ],
      "source": [
        "os.listdir()"
      ]
    },
    {
      "cell_type": "code",
      "execution_count": null,
      "metadata": {
        "colab": {
          "base_uri": "https://localhost:8080/"
        },
        "id": "dSLNy4T0YkFY",
        "outputId": "9eb5cf22-54f8-429d-9f20-74a00d33e418"
      },
      "outputs": [
        {
          "name": "stdout",
          "output_type": "stream",
          "text": [
            "Cloning into 'tdl-notebook'...\n",
            "remote: Enumerating objects: 9, done.\u001b[K\n",
            "remote: Counting objects: 100% (9/9), done.\u001b[K\n",
            "remote: Compressing objects: 100% (8/8), done.\u001b[K\n",
            "remote: Total 9 (delta 1), reused 5 (delta 0), pack-reused 0\u001b[K\n",
            "Unpacking objects: 100% (9/9), 5.77 KiB | 45.00 KiB/s, done.\n"
          ]
        }
      ],
      "source": [
        "# ! git clone https://github.com/LeonardoViotti/tdl-notebook.git"
      ]
    },
    {
      "cell_type": "code",
      "execution_count": null,
      "metadata": {
        "colab": {
          "base_uri": "https://localhost:8080/"
        },
        "id": "e2LG3uqDZMIL",
        "outputId": "b48d84f0-52ae-4966-b316-9b534153f4d8"
      },
      "outputs": [
        {
          "name": "stdout",
          "output_type": "stream",
          "text": [
            "/content/drive/MyDrive/tdl-notebook-test/tdl-notebook\n"
          ]
        }
      ],
      "source": [
        "%cd tdl-notebook/"
      ]
    },
    {
      "cell_type": "code",
      "execution_count": null,
      "metadata": {
        "colab": {
          "base_uri": "https://localhost:8080/"
        },
        "id": "ZMkGGWBwZQNi",
        "outputId": "62fb3353-dfa0-4ab1-8b4a-e6c838c5a32c"
      },
      "outputs": [
        {
          "name": "stdout",
          "output_type": "stream",
          "text": [
            "Already up to date.\n"
          ]
        }
      ],
      "source": [
        "! git pull"
      ]
    }
  ],
  "metadata": {
    "colab": {
      "authorship_tag": "ABX9TyNmhso9rBb8835IDHLAz1op",
      "include_colab_link": true,
      "provenance": []
    },
    "kernelspec": {
      "display_name": "Python 3",
      "name": "python3"
    },
    "language_info": {
      "name": "python"
    }
  },
  "nbformat": 4,
  "nbformat_minor": 0
}
